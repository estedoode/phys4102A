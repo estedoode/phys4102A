{
 "cells": [
  {
   "cell_type": "markdown",
   "id": "efbad8b1",
   "metadata": {},
   "source": [
    "# 2/10/24 \n",
    "\n",
    "# Hello, my name is Shane Holmes, currently I am in my last semester in the undergraduate physics program at California State University Stanislaus. \n",
    "\n",
    "## This is work completed during my spring 2024 semester, taking experimental physics with Dr. To! \n",
    "\n",
    "## This assignment includes python code used to solve physics-related problems from Mark Newman's Computational Physics textbook! \n",
    "\n",
    "## Primarily, this work is to demonstrate my ability to program in python and illustrate that I know how to use python to solve physics problems. Of course, if you come across this notebook as someone just trying to learn python or solve physics problems, then by all means you are free to look at this notebook at anytime.  "
   ]
  },
  {
   "cell_type": "markdown",
   "id": "8db912b4",
   "metadata": {},
   "source": [
    "## The first task asks to print \"Hello (your name)! \" using the print function. So, I will do that in the next code box. \n",
    "\n",
    "### Print out your name:"
   ]
  },
  {
   "cell_type": "code",
   "execution_count": 11,
   "id": "cbad3d94",
   "metadata": {},
   "outputs": [
    {
     "name": "stdout",
     "output_type": "stream",
     "text": [
      "Hello Shane Holmes!\n"
     ]
    }
   ],
   "source": [
    "print('Hello Shane Holmes!')"
   ]
  },
  {
   "cell_type": "markdown",
   "id": "1386f5f7",
   "metadata": {},
   "source": [
    "### As you can see above, I was able to use the print function and within the function put in quotes \"Hello Shane Holmes!\" We will see that my notebook has more examples of using the print function other than for printing short sentence statements! "
   ]
  },
  {
   "cell_type": "markdown",
   "id": "a95d33b3",
   "metadata": {},
   "source": [
    "## Python has many functions that are useful. However, python does not have every built in function needed to complete every task, so it is general practice to utilize other libraries in python, such as numpy. Numpy is basically a python library with built in functions designed for scientific computing and we will use it all throughout this notebook. To use libraries such as numpy requires you to have to import them. Down below, you will see that I imported numpy. "
   ]
  },
  {
   "cell_type": "code",
   "execution_count": 2,
   "id": "77cf349d",
   "metadata": {},
   "outputs": [],
   "source": [
    "# import of libraries.  \n",
    "import numpy as np "
   ]
  },
  {
   "cell_type": "markdown",
   "id": "f6e50c50",
   "metadata": {},
   "source": [
    "# Problem 1: Circular Orbits "
   ]
  },
  {
   "cell_type": "markdown",
   "id": "ae543c3c",
   "metadata": {},
   "source": [
    "### a) Starting with Newton's Gravitational Law, use the Markdown functionality to derive the altitude, h, of an object orbiting Earth obeys this equation: $ h = (\\frac{GMT^2}{4pi^2})^\\frac{1}{3} - R$ where, $ G = 6.67 X 10^{-11} \\frac{m^{3}}{kgs^{2}}$ , $ M = 5.97 X 10^{24} kg$, R = 6371 km are the mass and radius of Earth, T is the period of the orbit in seconds."
   ]
  },
  {
   "cell_type": "markdown",
   "id": "b8164289",
   "metadata": {},
   "source": [
    "## If you remember from basic physics, there are two forces that affect the trajectory of orbiting objects around earth, such as the force of gravity and centripetal force. The idea is that both forces act equally upon the object orbiting around earth. So, with this in mind we can set the two forces equal to each other and solve for the altitude. \n",
    "\n",
    "\n",
    "### Force of Gravity \n",
    "$F_G = \\frac{GMm}{r^2}$\n",
    "### Centripetal Force \n",
    "$F_C = \\frac{mv^2}{r}$ \n",
    "\n",
    "### Set the forces equal to each other  and solve for r \n",
    "$ F_G = F_C $ \n",
    "\n",
    "$ \\frac{GMm}{r^2} = \\frac{mv^2}{r} = mw^{2}r $ \n",
    "\n",
    "$ r^3 = \\frac{GM}{w^2}$ \n",
    "\n",
    "### We want this result to be in period, so using the relationship $ w = \\frac{2\\pi}{T} $ \n",
    "\n",
    "$ r = h + R $ \n",
    "\n",
    "### Plugging this into r and solving for h, we get the altitude \n",
    "\n",
    "$ h = (\\frac{GMT^2}{4\\pi^2})^\\frac{1}{3} - R $ \n",
    "\n",
    "### We successfully derived the altitude h for an object orbiting Earth using Newtons's Laws."
   ]
  },
  {
   "cell_type": "markdown",
   "id": "9a23520b",
   "metadata": {},
   "source": [
    "### b)Create a program that takes input of period T to calculate the satellite "
   ]
  },
  {
   "cell_type": "code",
   "execution_count": 55,
   "id": "2c4f9262",
   "metadata": {
    "scrolled": true
   },
   "outputs": [
    {
     "name": "stdout",
     "output_type": "stream",
     "text": [
      "type period in minutes:92.68\n",
      "altitude= 410.6961325276494 km\n"
     ]
    }
   ],
   "source": [
    "Tmin = float(input(\"type period in minutes:\")) # The time in minutes \n",
    "Tsec = Tmin * 60  # The Tmin converted to time in seconds \n",
    "G = 6.67e-11 # Gravitational constant m^3/kgs^2\n",
    "MassEarth = 5.97e24 # Mass of the earth in kg \n",
    "R = 6371 * 1000 # Earth's radius in meters \n",
    "h = ((G*MassEarth*(Tsec**2)/(4*(np.pi)**2))**(1/3) - R)\n",
    "print('altitude=',h/1000,\"km\")"
   ]
  },
  {
   "cell_type": "markdown",
   "id": "b57e9192",
   "metadata": {},
   "source": [
    "## Result: To see if our program works we plugged in the period of the object/satellite orbiting earth and were able to find when T = 92.68 minutes that the altitude h = 410.70 kilometers. \n",
    "\n",
    "### Something neat, if you looked at the derivation is that the mass of the object orbiting earth does not matter because the masses cancel. "
   ]
  },
  {
   "cell_type": "markdown",
   "id": "360ad01b",
   "metadata": {},
   "source": [
    " ### c) In a new code box, re-code the calculation so it makes the calculation using a user defined function instead. Then calculate the altitude of Geosynchronous Orbit."
   ]
  },
  {
   "cell_type": "code",
   "execution_count": 10,
   "id": "9b4437f6",
   "metadata": {},
   "outputs": [
    {
     "name": "stdout",
     "output_type": "stream",
     "text": [
      "Altitude of the GeoSynchronous Orbit = 35777.67594683055 km\n"
     ]
    }
   ],
   "source": [
    "# Building a user function using the same calculation \n",
    "def alt (T): ## This function I called alt which is short for altitude calculates the altitude of Geosynchronous orbit. \n",
    "    Tsec = T * 60 \n",
    "    G = 6.67e-11 \n",
    "    MassEarth = 5.97e24 \n",
    "    R = 6371 * 1000 \n",
    "    h = ((G*MassEarth*(Tsec**2)/(4*(np.pi)**2))**(1/3) - R)\n",
    "    return h/1000 # This returns the alitude in kilometers \n",
    "\n",
    "# The Geosynchronous orbit occurs at 23 hours 56 min 4 seconds which is about 1436 minutes \n",
    "\n",
    "altitude = alt(1436)\n",
    "print(\"Altitude of the GeoSynchronous Orbit =\",altitude,\"km\")\n",
    "    "
   ]
  },
  {
   "cell_type": "markdown",
   "id": "2a8b12f1",
   "metadata": {},
   "source": [
    "## Result : The period of the Geosynchrounous Orbit is about 1436 minutes, plugging this into our defined function we see that the altitude is about 35,778 kilometers. "
   ]
  },
  {
   "cell_type": "markdown",
   "id": "62e70ef0",
   "metadata": {},
   "source": [
    "### d) In a new code box, write a while loop which repetitively calculates h from T = 90 minutes to T = 80 minutes, iterating in 1 minute intervals. Is there a minimal orbital period around Earth?"
   ]
  },
  {
   "cell_type": "code",
   "execution_count": 265,
   "id": "7ee06294",
   "metadata": {},
   "outputs": [
    {
     "name": "stdout",
     "output_type": "stream",
     "text": [
      "Altitude = 279.3216253728606 km at T= 90\n",
      "Altitude = 229.9683050042782 km at T= 89\n",
      "Altitude = 180.42978960218747 km at T= 88\n",
      "Altitude = 130.70326773955952 km at T= 87\n",
      "Altitude = 80.78585243780725 km at T= 86\n",
      "Altitude = 30.674578232505358 km at T= 85\n",
      "Altitude = -19.63360191078577 km at T= 84\n",
      "Altitude = -70.14181984013412 km at T= 83\n",
      "Altitude = -120.85329563054815 km at T= 82\n",
      "Altitude = -171.77134117806423 km at T= 81\n",
      "Altitude = -222.89936398651918 km at T= 80\n",
      "\n",
      "Minimum Altitude = 30.674578232505358 km at T = 85 min\n"
     ]
    }
   ],
   "source": [
    "# Problem 1d question: \n",
    "# In a new code box, write a while loop which repetitively calculates h from T = 90 minutes to T = 80 minutes, \n",
    "# iterating in 1 minute intervals. \n",
    "# Is there a minimal orbital period around Earth?\n",
    "\n",
    "# Create time interval, 80 to 90 minutes  \n",
    "timInt = np.arange(80,91,1)\n",
    "\n",
    "result = []\n",
    "periodT = []\n",
    "\n",
    "count = len(timInt) - 1     \n",
    "while(len(result) != len(timInt)):\n",
    "    print('Altitude =',alt(timInt[count]),'km at T=',timInt[count])\n",
    "    result.append(alt(timInt[count]))\n",
    "    periodT.append(timInt[count])\n",
    "    count = count - 1 \n",
    "\n",
    "# You can see the result that is least positive number that it is the minimal oribit, \n",
    "# so the minimal orbit is T = 85 min.     \n",
    "\n",
    "print(\"\\nMinimum Altitude =\",result[5],\"km\",'at T = 85 min') \n",
    "\n",
    "# This is just to show that the T is starting from 90, then goes down to 80 minutes. \n",
    "# Note that -222.899 km is not a possible altitude as that would be going into the earth. "
   ]
  },
  {
   "cell_type": "markdown",
   "id": "dc7650b3",
   "metadata": {},
   "source": [
    "# For Problem 1 Part D, I looped through T = 90 and T = 80 min and found that the minimum altitude is about 30.67 km at T = 85 min. If you were to look at the print out statements, you will see that the alititude keeps going down to -222.90 km but this does not make sense as you would be going into the earth at this point. So, the correct answer should correspond to the lowest positive number which is 30.67 km at 85 min. It should correspond to the lowest positive number because it would mean that it is not located beneath the earth's surface. Take altitude 0 to be the surface of the earth and anything negative to be going into the earth. This explains why 30.67 km is the correct minimum altitude for the orbit ranging from 90 to 80 min periods. "
   ]
  },
  {
   "cell_type": "markdown",
   "id": "d15b3578",
   "metadata": {},
   "source": [
    "# Problem 2: Coordinate Conversions \n",
    "\n",
    "### a) Write a program which takes x and y as an input and prints out the r and phi (polar angle) of the coordinate. Make sure to utilize if statements to make sure your results are in the correct quadrants."
   ]
  },
  {
   "cell_type": "code",
   "execution_count": 81,
   "id": "59e04156",
   "metadata": {},
   "outputs": [
    {
     "name": "stdout",
     "output_type": "stream",
     "text": [
      "Enter the coordinate value x: 5\n",
      "Enter the coordinate value y: 5\n",
      "\n",
      "r= 7.0710678118654755 and phi = 45.0 degrees\n"
     ]
    }
   ],
   "source": [
    "# Part A \n",
    "x = float(input('Enter the coordinate value x: ')) # x coordinate value \n",
    "y = float(input('Enter the coordinate value y: ')) # y coordinate value \n",
    "r = np.sqrt(x**2 + y**2) # This takes the cartesian coordinates x & y and coverts it to polar coordinate r. \n",
    "\n",
    "# This is the different cases that the computer takes into account for coverting from cartesian to polar coordinates. \n",
    "\n",
    "# First Quadrant \n",
    "if(x > 0 and y > 0): \n",
    "    phi = 180/np.pi * np.arctan(y/x)\n",
    "    print('\\nr =',r,'and phi =',phi,'degrees')\n",
    "    \n",
    "# Second Quadrant \n",
    "elif(x<0 and y>0): \n",
    "    phi = 180 - abs(((180/np.pi)*np.arctan(y/x)))\n",
    "    print('\\nr =',r,'and phi =',phi, 'degrees')\n",
    "    \n",
    "# Third Quadrant \n",
    "elif(x<0 and y <0): \n",
    "    phi = 270 - abs((180/np.pi) * np.arctan(y/x)) \n",
    "    print('\\nr =',r,'and phi =',phi,'degrees')\n",
    "    \n",
    "# Fourth Quadrant \n",
    "elif(x>0 and y<0): \n",
    "    phi = 360 - abs((180/np.pi) * np.arctan(y/x))\n",
    "    print('\\nr =',r,'and phi',phi,'degrees')\n",
    "    \n",
    "# Case for (1,0)\n",
    "elif(x == 1 and y == 0): \n",
    "    phi = 0 \n",
    "    print('\\nr =',r,'and phi =',phi,'degrees') \n",
    "    \n",
    "# Case: (0,1)\n",
    "elif(x == 0 and y == 1): \n",
    "    phi = 90 \n",
    "    print('\\nr =',r,'and phi =',phi,'degrees')\n",
    "    \n",
    "# Case: (-1,0)\n",
    "elif(x == -1 and y == 0): \n",
    "    phi = 180 \n",
    "    print('\\nr =',r,'and phi =',phi,'degrees')\n",
    "    \n",
    "# Case: (0,-1)\n",
    "elif(x == 0 and y == -1): \n",
    "    phi = 270 \n",
    "    print('\\nr =',r,'and phi =',phi,'degrees') \n",
    "\n",
    "# Case: Undefined \n",
    "else: \n",
    "    print('undefined')"
   ]
  },
  {
   "cell_type": "markdown",
   "id": "b1b27a2b",
   "metadata": {},
   "source": [
    "## Result: This program converts cartesian to polar coordinates.  "
   ]
  },
  {
   "cell_type": "markdown",
   "id": "41da3fa7",
   "metadata": {},
   "source": [
    "### b) Write a program which takes r and phi and prints out the x and y coordinate. Make sure to utilize if statements to make sure your results are in the correct quadrants."
   ]
  },
  {
   "cell_type": "code",
   "execution_count": 121,
   "id": "e693c5d8",
   "metadata": {},
   "outputs": [
    {
     "name": "stdout",
     "output_type": "stream",
     "text": [
      "type r: 360\n",
      "type phi angle in degrees: 360\n",
      "\n",
      "The angle = 360.0 degrees\n",
      "\n",
      "x = 1.0 \n",
      "y = 0.0\n"
     ]
    }
   ],
   "source": [
    "# Part B \n",
    "\n",
    "#print('Hello this is a computer program to convert radius and phi to x and y coordinates')\n",
    "r_val = float(input('type r: '))\n",
    "phi_angle = float(input('type phi angle in degrees: '))\n",
    "#x_val = np.cos(phi_ang)\n",
    "#y_val = np.sin(phi_ang)\n",
    "\n",
    "# This deals with coterminal angles \n",
    "if (phi_angle > 360): \n",
    "    while phi_angle > 360: \n",
    "        phi_angle = phi_angle - 360\n",
    "    \n",
    "else: \n",
    "    while phi_angle < 0: \n",
    "        phi_angle = phi_angle + 360 \n",
    "\n",
    "new_phi_angle = phi_angle # This variable holds the correct angle in degrees  \n",
    "\n",
    "print('\\nThe angle =',new_phi_angle,'degrees')\n",
    "\n",
    "# Case: phi = 0 degrees \n",
    "if(new_phi_angle == 0.0):\n",
    "    x_val = 1.0\n",
    "    y_val = 0.0 \n",
    "    print('\\nx =',x_val,'\\ny =',y_val)\n",
    "    \n",
    "# Case: phi = 90 degrees \n",
    "elif(new_phi_angle == 90.0): \n",
    "    x_val = 0.0 \n",
    "    y_val = 1.0 \n",
    "    print('\\nx =',x_val,'\\ny =',y_val)\n",
    "        \n",
    "# Case: phi = 180 degrees         \n",
    "elif(new_phi_angle == 180.0): \n",
    "    x_val = -1.0\n",
    "    y_val = 0.0 \n",
    "    print('\\nx =',x_val,'\\ny =',y_val)\n",
    "    \n",
    "# Case: phi = 270 degrees     \n",
    "elif(new_phi_angle == 270.0): \n",
    "    x_val = 0.0 \n",
    "    y_val = -1.0 \n",
    "    print('\\nx =',x_val,'\\ny =',y_val)\n",
    "\n",
    "# Case: phi = 360 degrees     \n",
    "elif(new_phi_angle == 360.0): \n",
    "    x_val = 1.0 \n",
    "    y_val = 0.0 \n",
    "    print('\\nx =',x_val,'\\ny =',y_val)  \n",
    "\n",
    "else:\n",
    "    x_val = r_val * np.cos(new_phi_angle * (np.pi/180))\n",
    "    y_val = r_val * np.sin(new_phi_angle * (np.pi/180)) \n",
    "    print('\\nx =',x_val,'\\ny =',y_val)\n",
    "    "
   ]
  },
  {
   "cell_type": "markdown",
   "id": "1855bb22",
   "metadata": {},
   "source": [
    "## Result: Conversely, this program converts polar to cartesian coordinates. "
   ]
  },
  {
   "cell_type": "markdown",
   "id": "5cb65bed",
   "metadata": {},
   "source": [
    "# Problem 3: Lorentz Invariants Problem"
   ]
  },
  {
   "cell_type": "markdown",
   "id": "9c3fbbca",
   "metadata": {},
   "source": [
    "## a) Using a markdown window, show that $s^\\frac{1}{2} = mc$, where m is the mass of the particle, c is the speed of light.\n",
    "\n",
    "$ s = (\\frac{E^{2}}{c^{2}}) ^ {2} - p_x ^ {2} - p_y ^ {2} - p_z^{2} $ \n",
    "\n",
    "$ s + p = (\\frac{E^{2}}{c^{2}}) ^ {2} = \\frac{p^{2} c^{2}}{c^{2}} + \\frac{m^{2}c^{4}}{c^{2}}$  \n",
    "\n",
    "$ s = p^{2} - p ^ {2} + m^{2}c^{2} $ \n",
    "\n",
    "$ s = m^{2}c^{2} $ \n",
    "\n",
    "$ s^\\frac{1}{2} = mc $ "
   ]
  },
  {
   "cell_type": "markdown",
   "id": "f6b069d0",
   "metadata": {},
   "source": [
    "## If you are not familar with Lorentz Invariants, this comes from the physics of special relativity. The idea of the Lorentz invariant is that it is invariant across any coordinate system which allows for all intertial frames to be in agreement in regards to physics. This means that forces observed in S frame will be also observed in S prime frame. \n",
    "\n",
    "## Result: By plugging in the Energy Momentum relation into E for the second step we were able to reduce it to prove that $s^{1/2} = mc$ "
   ]
  },
  {
   "cell_type": "markdown",
   "id": "4b9cbb1f",
   "metadata": {},
   "source": [
    "## b) Write a function which takes a list [E, px, py, pz] as an input and print out the mass*(speed of light) of the particle. Make sure the function returns an obviously wrong answer like -1 for invalid inputs. Extra note, typically in particle physics this energy, momentum and mass all have units of Electrovolt (eV). Mass a proton is 0.938 GeV for example."
   ]
  },
  {
   "cell_type": "code",
   "execution_count": 5,
   "id": "8e67338a",
   "metadata": {},
   "outputs": [
    {
     "name": "stdout",
     "output_type": "stream",
     "text": [
      "Testing the defined function MC using vec, we get: -1\n"
     ]
    }
   ],
   "source": [
    "# Function that will take the four vector to calculte Mass * speed of light \n",
    "\n",
    "def MC (fvector): # A defined function I called MC, it's short for Mass * Speed of Light \n",
    "    \n",
    "    s = (fvector[0])**2 - (fvector[1])**2 - (fvector[2])**2 - (fvector[3])**2\n",
    "    if s >= 0: \n",
    "        MC = np.sqrt(s) # This finds the mass * speed of a particle \n",
    "    \n",
    "    else: \n",
    "        MC = -1   \n",
    "    \n",
    "    return MC \n",
    "\n",
    "vec = [1,1,1,1] # the list used to test our defined fuction MC \n",
    "\n",
    "test = MC(vec) # We see that our function works. \n",
    "\n",
    "print('Testing the defined function MC using vec, we get:',test)"
   ]
  },
  {
   "cell_type": "markdown",
   "id": "b8dc6f51",
   "metadata": {},
   "source": [
    "## Result: I built a defined function that takes a list containing values found in the momentum 4 vector. The idea of this step was to make sure that it works and that defined function MC square roots s. Of course, we had to account for when s may be negative (due to the fact that a negative value cannot be square rooted) and set MC equal to -1. This way, I think this is supposed to allow for us to be able to differentiate between the values calculated. The big takeway here is that our defined function MC works correctly as it spits out a -1 when s is equivalent to a negative value. Note: The list used to test the defined function in the code is called vec. Also, remeber that vec is actually the momentum four vector, so each value represents a specific quantity, such as Energy and momentum (in x, y, z direction). "
   ]
  },
  {
   "cell_type": "markdown",
   "id": "e794a12f",
   "metadata": {},
   "source": [
    "## c) Verify your function by using a for loop where you loop in the range E from 1-10 [GeV], px = 1-10 [GeV], py = pz =0, with step size of 1 [GeV]. Save the result in a 2D Array and an output file. Make sure to put each energy value in one row and each momentum value in each column. What type of particle would be likely for those on the diagonal of the array?"
   ]
  },
  {
   "cell_type": "code",
   "execution_count": 6,
   "id": "c295b500",
   "metadata": {},
   "outputs": [
    {
     "name": "stdout",
     "output_type": "stream",
     "text": [
      "[[ 0.         -1.         -1.         -1.         -1.         -1.\n",
      "  -1.         -1.         -1.         -1.        ]\n",
      " [ 1.73205081  0.         -1.         -1.         -1.         -1.\n",
      "  -1.         -1.         -1.         -1.        ]\n",
      " [ 2.82842712  2.23606798  0.         -1.         -1.         -1.\n",
      "  -1.         -1.         -1.         -1.        ]\n",
      " [ 3.87298335  3.46410162  2.64575131  0.         -1.         -1.\n",
      "  -1.         -1.         -1.         -1.        ]\n",
      " [ 4.89897949  4.58257569  4.          3.          0.         -1.\n",
      "  -1.         -1.         -1.         -1.        ]\n",
      " [ 5.91607978  5.65685425  5.19615242  4.47213595  3.31662479  0.\n",
      "  -1.         -1.         -1.         -1.        ]\n",
      " [ 6.92820323  6.70820393  6.32455532  5.74456265  4.89897949  3.60555128\n",
      "   0.         -1.         -1.         -1.        ]\n",
      " [ 7.93725393  7.74596669  7.41619849  6.92820323  6.244998    5.29150262\n",
      "   3.87298335  0.         -1.         -1.        ]\n",
      " [ 8.94427191  8.77496439  8.48528137  8.06225775  7.48331477  6.70820393\n",
      "   5.65685425  4.12310563  0.         -1.        ]\n",
      " [ 9.94987437  9.79795897  9.53939201  9.16515139  8.66025404  8.\n",
      "   7.14142843  6.          4.35889894  0.        ]]\n"
     ]
    }
   ],
   "source": [
    "# Part C \n",
    "vector = [] # the four momentum vector \n",
    "mx = np.zeros([10,10]) # This is a 10 x 10 matrix which stores Energy in rows and momentum in column\n",
    "for E in np.arange(1,11): # This loops through Energy 1 - 10 GeV \n",
    "    for P in np.arange(1,11): # The second loop is to loop through all momentum for each correspond energy value. \n",
    "        mx[E-1,P-1] = MC([E,P,0,0]) # This stores Energy and corresponding momentum values in 10 x 10 matrix. \n",
    "print(mx)"
   ]
  },
  {
   "cell_type": "markdown",
   "id": "44ec8713",
   "metadata": {},
   "source": [
    "## Result: In this program we utilized our defined function from part b to loop through and calculate Mass * Speed of light for each energy and corresponding momentum values. The energy is read in rows and momentum in columns. These values energy and momentum values are stored in a 2D array in which we are able to recognize and see that the diagonals are filled with zeros. Recall that each diagnol represents mass * speed of light and is equal to zero. This indicates that this is a photon particle due to it having zero mass which explains why the diagnols are zero! "
   ]
  },
  {
   "cell_type": "markdown",
   "id": "00de7382",
   "metadata": {},
   "source": [
    "## This code box below is an extension of part c, it is the code that saves the 2D matrix as a text file. "
   ]
  },
  {
   "cell_type": "code",
   "execution_count": 42,
   "id": "a442c59e",
   "metadata": {},
   "outputs": [
    {
     "name": "stdout",
     "output_type": "stream",
     "text": [
      "[[ 0. -1. -1. -1. -1. -1. -1. -1. -1. -1.]\n",
      " [ 2.  0. -1. -1. -1. -1. -1. -1. -1. -1.]\n",
      " [ 3.  2.  0. -1. -1. -1. -1. -1. -1. -1.]\n",
      " [ 4.  3.  3.  0. -1. -1. -1. -1. -1. -1.]\n",
      " [ 5.  5.  4.  3.  0. -1. -1. -1. -1. -1.]\n",
      " [ 6.  6.  5.  4.  3.  0. -1. -1. -1. -1.]\n",
      " [ 7.  7.  6.  6.  5.  4.  0. -1. -1. -1.]\n",
      " [ 8.  8.  7.  7.  6.  5.  4.  0. -1. -1.]\n",
      " [ 9.  9.  8.  8.  7.  7.  6.  4.  0. -1.]\n",
      " [10. 10. 10.  9.  9.  8.  7.  6.  4.  0.]]\n"
     ]
    }
   ],
   "source": [
    "np.savetxt('2Darray_data.txt',mx, fmt = \"%10.3f\", delimiter = ' ')# The diagonal is filled with zeros, so the particle is a photon.  "
   ]
  },
  {
   "cell_type": "markdown",
   "id": "af387528",
   "metadata": {},
   "source": [
    "## d) Start a new code box, read your output file from part c) to make sure it is written correctly and print out the result."
   ]
  },
  {
   "cell_type": "code",
   "execution_count": 51,
   "id": "47f54516",
   "metadata": {},
   "outputs": [
    {
     "name": "stdout",
     "output_type": "stream",
     "text": [
      "[[ 0.    -1.    -1.    -1.    -1.    -1.    -1.    -1.    -1.    -1.   ]\n",
      " [ 1.732  0.    -1.    -1.    -1.    -1.    -1.    -1.    -1.    -1.   ]\n",
      " [ 2.828  2.236  0.    -1.    -1.    -1.    -1.    -1.    -1.    -1.   ]\n",
      " [ 3.873  3.464  2.646  0.    -1.    -1.    -1.    -1.    -1.    -1.   ]\n",
      " [ 4.899  4.583  4.     3.     0.    -1.    -1.    -1.    -1.    -1.   ]\n",
      " [ 5.916  5.657  5.196  4.472  3.317  0.    -1.    -1.    -1.    -1.   ]\n",
      " [ 6.928  6.708  6.325  5.745  4.899  3.606  0.    -1.    -1.    -1.   ]\n",
      " [ 7.937  7.746  7.416  6.928  6.245  5.292  3.873  0.    -1.    -1.   ]\n",
      " [ 8.944  8.775  8.485  8.062  7.483  6.708  5.657  4.123  0.    -1.   ]\n",
      " [ 9.95   9.798  9.539  9.165  8.66   8.     7.141  6.     4.359  0.   ]]\n"
     ]
    }
   ],
   "source": [
    "# Part D \n",
    "twoDarray = np.loadtxt('2Darray_data.txt')\n",
    "print(twoDarray)"
   ]
  },
  {
   "cell_type": "markdown",
   "id": "4813a0d5",
   "metadata": {},
   "source": [
    "## At the end of part d for problem 4, I loaded and printed the 2D array that was saved in a text file from Part C. You can actually see the 2D array better here. As I explained earlier, I think the type of particle is a photon because each diagonal respresents mass * speed of light and since the photon has zero mass this explains why the diagonals are zero. "
   ]
  },
  {
   "cell_type": "markdown",
   "id": "72ddc1ab",
   "metadata": {},
   "source": [
    "## Result: For part a of this problem, it asked to either use a for or while loop to print out each row of the data array. Using the for loop, I was able to print out the rows of data. This can be seen above."
   ]
  },
  {
   "cell_type": "markdown",
   "id": "39cc2f9f",
   "metadata": {},
   "source": [
    "# Problem 4: Binding Energy of Isotopes Problem"
   ]
  },
  {
   "cell_type": "markdown",
   "id": "a787399c",
   "metadata": {},
   "source": [
    "### a) Write a program which calculates the binding energy. Check that it works by inputting A = 58 and Z = 28 where Ebind~ 500 MeV"
   ]
  },
  {
   "cell_type": "code",
   "execution_count": 7,
   "id": "d9e9ac5e",
   "metadata": {
    "scrolled": false
   },
   "outputs": [
    {
     "name": "stdout",
     "output_type": "stream",
     "text": [
      "Ebind = 497.5620206224374 MeV\n"
     ]
    }
   ],
   "source": [
    "# Part A \n",
    "def Ebind(A,Z): \n",
    "    # Define constants \n",
    "    a1 = 15.8 \n",
    "    a2 = 18.3 \n",
    "    a3 = .714 \n",
    "    a4 = 23.2\n",
    "    \n",
    "    # This determines the value of a5 \n",
    "    if A%2 == 1: \n",
    "        a5 = 0.0\n",
    "    elif((A%2 + Z%2) == 0): \n",
    "        a5 = 12.0 \n",
    "    else: \n",
    "        a5 = -12.0 \n",
    "    E_bind = (a1*A) - (a2 * A**(2/3)) - (a3*(Z**2/A**(1/3))) - (a4*((A-2*Z)**2/A)) + (a5/(A**(1/2)))\n",
    "    return E_bind \n",
    "\n",
    "# The answer for Part A\n",
    "print(\"Ebind =\",Ebind(58,28),'MeV') # This result proves that our program for calculating the binding energy works.  "
   ]
  },
  {
   "cell_type": "markdown",
   "id": "421e1b7b",
   "metadata": {},
   "source": [
    "## Result: I created a defined function called Ebind which would emulate the semi-empirical mass formula which allows you to calculate the binding eneryg of an isotope given the atomic number Z and atomic mass number A. After creating the defined function, I tried it by entering A =58 and Z = 28. As a result, I calculated that the Energy is about 498 MeV, which is fine because the problem stated the answer should roughly be 500 MeV. "
   ]
  },
  {
   "cell_type": "markdown",
   "id": "9dc517c6",
   "metadata": {},
   "source": [
    "### b) Add to the program to calculate the binding energy per nucleon, EperA = Ebind/A, then calculate both EperA and Ebin for values of A = Z to A = 3Z."
   ]
  },
  {
   "cell_type": "code",
   "execution_count": 8,
   "id": "b7a97669",
   "metadata": {},
   "outputs": [
    {
     "name": "stdout",
     "output_type": "stream",
     "text": [
      "\n",
      "Calculated Values for Ebin = [-558.0178661529487, -479.9360505020727, -403.4195957384765, -336.7255802300137, -270.6495127675379, -213.2975884524716, -155.85196234085106, -106.25722663506608, -56.02770169961394, -12.943326879344482, 31.191341403020527, 68.75960999537276, 107.69977281633473, 140.55442793498474, 175.03140116191827, 203.8272289673655, 234.44119493781727, 259.7177232684636, 286.96587047183385, 309.17162699330265, 333.46934054871247, 352.9802346629146, 374.67726078171074, 391.8106851529934, 411.2036076077774, 426.22937841730294, 443.57135283974935, 456.7202855755306, 472.2287099682346, 483.699406041829, 497.5620206224374, 507.526285533727, 519.9060648065981, 528.513269206638, 539.5523763876572, 546.9329929944508, 556.7560000000001, 563.0244924534668, 571.7410198387086, 576.9982178662509, 584.7051130859302, 589.0401774315876, 595.8233229676769, 599.3153803981694, 605.2512031225776, 607.9707143473948, 613.1274521807202, 615.1373622115441, 619.576132428998, 620.9328426821438, 624.7085471897888, 625.4627407270468, 628.6248366198231, 628.8221817607053, 631.415339990086, 631.097092694029, 633.161763356253]\n",
      "\n",
      "Calculated Values for EperA = [-19.929209505462456, -16.549518982830094, -13.447319857949218, -10.862115491290764, -8.457797273985559, -6.463563286438533, -4.583881245319149, -3.0359207610018877, -1.5563250472114984, -0.3498196453876887, 0.8208247737636981, 1.7630669229582758, 2.6924943204083682, 3.428156778902067, 4.167414313379006, 4.740168115520128, 5.328208975859483, 5.771504961521414, 6.238388488518127, 6.578119723261759, 6.947277928098177, 7.203678258426828, 7.493545215634215, 7.682562453980263, 7.90776168476495, 8.042063743722697, 8.21428431184721, 8.304005192282375, 8.432655535147047, 8.485954491961913, 8.578655527973059, 8.602140432775034, 8.665101080109968, 8.664151954207181, 8.70245768367189, 8.681476079276997, 8.699312500000001, 8.661915268514873, 8.662742724828917, 8.611913699496283, 8.598604604204855, 8.536814165675183, 8.511761756681098, 8.441061695748864, 8.406266710035801, 8.328365949964313, 8.285506110550273, 8.201831496153922, 8.1523175319605, 8.064062891975894, 8.009083938330624, 7.917249882620846, 7.857810457747789, 7.76323681186056, 7.700187073049829, 7.603579430048542, 7.537640039955393]\n"
     ]
    }
   ],
   "source": [
    "# Part B \n",
    "# Edit the program so that it calculates both Binding energy and Binding Energy per Nucleon for values \n",
    "# A = Z to A = 3Z \n",
    "\n",
    "Z = 28 \n",
    "A_vals = np.arange(Z,3*Z + 1,1)\n",
    "\n",
    "def E_B_divA(A,Z): \n",
    "    # Define constants \n",
    "    a1 = 15.8 \n",
    "    a2 = 18.3 \n",
    "    a3 = .714 \n",
    "    a4 = 23.2\n",
    "    \n",
    "    # This determines the value of a5 \n",
    "    if A%2 == 1: \n",
    "        a5 = 0.0\n",
    "    elif((A%2 + Z%2) == 0): # Note before I had it as A%2 and Z%2 == 0 but it gave me a different result idk why. \n",
    "        a5 = 12.0 \n",
    "    else: \n",
    "        a5 = -12.0 \n",
    "    E_bind = (a1*A) - (a2 * A**(2/3)) - (a3*(Z**2/A**(1/3))) - (a4*((A-2*Z)**2/A)) + (a5/(A**(1/2)))\n",
    "    EA = E_bind/A # Binding Energy per nucleon \n",
    "    return EA \n",
    "E_bin = []\n",
    "E_perA = []\n",
    "\n",
    "for i in A_vals: \n",
    "    Ebin = Ebind(i,28)\n",
    "    EpA = E_B_divA(i,28)\n",
    "    \n",
    "    E_bin.append(Ebin)\n",
    "    E_perA.append(EpA)\n",
    "\n",
    "print('\\nCalculated Values for Ebin =',E_bin)\n",
    "print('\\nCalculated Values for EperA =',E_perA)"
   ]
  },
  {
   "cell_type": "markdown",
   "id": "f8eeefa2",
   "metadata": {},
   "source": [
    "## Result: This is basically the same program as part b, the only difference is that it asks to calculate the binding energy per nucleon as well. Before we just simply calculated the binding energy of the atom. Also, it asks that we calculate this for A = Z to A = 3Z. So, we looped through these conditions while atomic number remained 28 (this makes sense because we are calculating binding energies of isotopes). The atomic number is soley defined by the number of protons. This means that isotopes have the same atomic number, but different mass numbers due to the change in number of neutrons. Anyway, as a result, I calculated the binding energy and binding energy per nucleon for Nickel's isotopes. These values are represented right above this cell box. "
   ]
  },
  {
   "cell_type": "markdown",
   "id": "bcbb714c",
   "metadata": {},
   "source": [
    "### c) Loop from Z = 1 to 50 and find the maximum binding energy per nucleon.  This is the most stable isotope in the universe. Eventually, all nuclear fusion will result in producing this isotope. Look-up this element and isotope number on wikipedia. "
   ]
  },
  {
   "cell_type": "code",
   "execution_count": 256,
   "id": "d848c560",
   "metadata": {
    "scrolled": false
   },
   "outputs": [
    {
     "name": "stdout",
     "output_type": "stream",
     "text": [
      "Most stable value of A for Z = 1 is = 0 and the energy per nucleon is 0 Mev\n",
      "Most stable value of A for Z = 2 is = 0 and the energy per nucleon is 0 Mev\n",
      "Most stable value of A for Z = 3 is = 0 and the energy per nucleon is 0 Mev\n",
      "Most stable value of A for Z = 4 is = 0 and the energy per nucleon is 0 Mev\n",
      "Most stable value of A for Z = 5 is = 0 and the energy per nucleon is 0 Mev\n",
      "Most stable value of A for Z = 6 is = 0 and the energy per nucleon is 0 Mev\n",
      "Most stable value of A for Z = 7 is = 0 and the energy per nucleon is 0 Mev\n",
      "Most stable value of A for Z = 8 is = 0 and the energy per nucleon is 0 Mev\n",
      "Most stable value of A for Z = 9 is = 51 and the energy per nucleon is 0.8460122568708814 Mev\n",
      "Most stable value of A for Z = 10 is = 51 and the energy per nucleon is 1.9159985102108787 Mev\n",
      "Most stable value of A for Z = 11 is = 51 and the energy per nucleon is 2.9070772277827484 Mev\n",
      "Most stable value of A for Z = 12 is = 51 and the energy per nucleon is 3.819248409586481 Mev\n",
      "Most stable value of A for Z = 13 is = 51 and the energy per nucleon is 4.652512055622084 Mev\n",
      "Most stable value of A for Z = 14 is = 51 and the energy per nucleon is 5.406868165889553 Mev\n",
      "Most stable value of A for Z = 15 is = 51 and the energy per nucleon is 6.082316740388893 Mev\n",
      "Most stable value of A for Z = 16 is = 51 and the energy per nucleon is 6.678857779120099 Mev\n",
      "Most stable value of A for Z = 17 is = 51 and the energy per nucleon is 7.196491282083172 Mev\n",
      "Most stable value of A for Z = 18 is = 51 and the energy per nucleon is 7.6352172492781145 Mev\n",
      "Most stable value of A for Z = 19 is = 51 and the energy per nucleon is 7.995035680704924 Mev\n",
      "Most stable value of A for Z = 20 is = 51 and the energy per nucleon is 8.275946576363602 Mev\n",
      "Most stable value of A for Z = 21 is = 51 and the energy per nucleon is 8.477949936254147 Mev\n",
      "Most stable value of A for Z = 22 is = 51 and the energy per nucleon is 8.601045760376559 Mev\n",
      "Most stable value of A for Z = 23 is = 51 and the energy per nucleon is 8.645234048730842 Mev\n",
      "Most stable value of A for Z = 24 is = 54 and the energy per nucleon is 8.687306583887372 Mev\n",
      "Most stable value of A for Z = 25 is = 54 and the energy per nucleon is 8.687306583887372 Mev\n",
      "Most stable value of A for Z = 26 is = 58 and the energy per nucleon is 8.701432576808987 Mev\n",
      "Most stable value of A for Z = 27 is = 58 and the energy per nucleon is 8.701432576808987 Mev\n",
      "Most stable value of A for Z = 28 is = 62 and the energy per nucleon is 8.70245768367189 Mev\n",
      "Most stable value of A for Z = 29 is = 62 and the energy per nucleon is 8.70245768367189 Mev\n",
      "Most stable value of A for Z = 30 is = 62 and the energy per nucleon is 8.70245768367189 Mev\n",
      "Most stable value of A for Z = 31 is = 62 and the energy per nucleon is 8.70245768367189 Mev\n",
      "Most stable value of A for Z = 32 is = 62 and the energy per nucleon is 8.70245768367189 Mev\n",
      "Most stable value of A for Z = 33 is = 62 and the energy per nucleon is 8.70245768367189 Mev\n",
      "Most stable value of A for Z = 34 is = 62 and the energy per nucleon is 8.70245768367189 Mev\n",
      "Most stable value of A for Z = 35 is = 62 and the energy per nucleon is 8.70245768367189 Mev\n",
      "Most stable value of A for Z = 36 is = 62 and the energy per nucleon is 8.70245768367189 Mev\n",
      "Most stable value of A for Z = 37 is = 62 and the energy per nucleon is 8.70245768367189 Mev\n",
      "Most stable value of A for Z = 38 is = 62 and the energy per nucleon is 8.70245768367189 Mev\n",
      "Most stable value of A for Z = 39 is = 62 and the energy per nucleon is 8.70245768367189 Mev\n",
      "Most stable value of A for Z = 40 is = 62 and the energy per nucleon is 8.70245768367189 Mev\n",
      "Most stable value of A for Z = 41 is = 62 and the energy per nucleon is 8.70245768367189 Mev\n",
      "Most stable value of A for Z = 42 is = 62 and the energy per nucleon is 8.70245768367189 Mev\n",
      "Most stable value of A for Z = 43 is = 62 and the energy per nucleon is 8.70245768367189 Mev\n",
      "Most stable value of A for Z = 44 is = 62 and the energy per nucleon is 8.70245768367189 Mev\n",
      "Most stable value of A for Z = 45 is = 62 and the energy per nucleon is 8.70245768367189 Mev\n",
      "Most stable value of A for Z = 46 is = 62 and the energy per nucleon is 8.70245768367189 Mev\n",
      "Most stable value of A for Z = 47 is = 62 and the energy per nucleon is 8.70245768367189 Mev\n",
      "Most stable value of A for Z = 48 is = 62 and the energy per nucleon is 8.70245768367189 Mev\n",
      "Most stable value of A for Z = 49 is = 62 and the energy per nucleon is 8.70245768367189 Mev\n",
      "Most stable value of A for Z = 50 is = 62 and the energy per nucleon is 8.70245768367189 Mev\n",
      "\n",
      "The maximum binding energy per nucleon occurs at Z = 28 when A = 62\n"
     ]
    }
   ],
   "source": [
    "# Part C \n",
    "\n",
    "# Only want one input Z \n",
    "# Want it to loop from A = Z to A = 3Z \n",
    "lbn = 0 # largest binding energy per nucleon\n",
    "lba = 0 # The binding energy's corresponding atomic mass \n",
    "lbz = 0 # The binding energy's corresponding atomic number \n",
    "\n",
    "for Z_term in np.arange(1,51): # The atomic number from 1 to 51 \n",
    "    for A_term in np.arange(51,154): # Previously A = Z to 3Z which is why it is 51 to 154. \n",
    "        BEnergy = Ebind(A_term,Z_term) \n",
    "        BEnergyperNucleon = E_B_divA(A_term,Z_term)\n",
    "        \n",
    "        if (BEnergyperNucleon > lbn): \n",
    "            lbn = BEnergyperNucleon # This determines largest binding energy \n",
    "            lba = A_term # This prints the corresponding a with lbn \n",
    "            lbz = Z_term # This prints the corresponding z with lbn \n",
    "    print('Most stable value of A for Z =',Z_term,'is =',lba, 'and the energy per nucleon is',lbn, 'Mev')\n",
    "print('\\nThe maximum binding energy per nucleon occurs at Z =',lbz,'when A =',lba)\n",
    "\n",
    "# I recorded that Z = 28 and A = 62.\n",
    "# Therfore, I have found that the isotope with the largest binding energy is Nickel-62.    "
   ]
  },
  {
   "cell_type": "markdown",
   "id": "1b6deb00",
   "metadata": {},
   "source": [
    "## Result: I created a program which would find the maximum binding energy per nucleon using Z = 1 to 50. This was still using the condition A = Z to 3Z. Using for loops, I looped through all these possibilities and set specific conditions to identify the maximum binding energy per nucleon along with identifying its corresponding atomic number and atomic mass. As a result of this program, I found that the atomic number is 28 (no surprise we knew from earlier this is the element nickel) and the atomic mass is 62. Looking this up, I found that this is Nickel-62. In the problem it states that this is one of the most stable isotopes in the universe. By looking more into this, I found that the half-life of Nickel-62 is stable which means that these elements have half-lives too long to be measured by any means. In any case, Nickel-62 is a very long-lasting isotope and is what our program found to be isotope with the largest binding energy per nucleon.  "
   ]
  },
  {
   "cell_type": "markdown",
   "id": "6898e16e",
   "metadata": {},
   "source": [
    "# Problem 5: Mystery Data "
   ]
  },
  {
   "cell_type": "markdown",
   "id": "d29f6c46",
   "metadata": {},
   "source": [
    "### a) Using a while or for loop, print out each row of the data array."
   ]
  },
  {
   "cell_type": "code",
   "execution_count": 12,
   "id": "2fee7cba",
   "metadata": {},
   "outputs": [
    {
     "name": "stdout",
     "output_type": "stream",
     "text": [
      "[1. 0.]\n",
      "[0.9961947  0.08715574]\n",
      "[0.98480775 0.17364818]\n",
      "[0.96592583 0.25881905]\n",
      "[0.93969262 0.34202014]\n",
      "[0.90630779 0.42261826]\n",
      "[0.8660254 0.5      ]\n",
      "[0.81915204 0.57357644]\n",
      "[0.76604444 0.64278761]\n",
      "[0.70710678 0.70710678]\n",
      "[0.64278761 0.76604444]\n",
      "[0.57357644 0.81915204]\n",
      "[0.5       0.8660254]\n",
      "[0.42261826 0.90630779]\n",
      "[0.34202014 0.93969262]\n",
      "[0.25881905 0.96592583]\n",
      "[0.17364818 0.98480775]\n",
      "[0.08715574 0.9961947 ]\n",
      "[6.123234e-17 1.000000e+00]\n",
      "[-0.08715574  0.9961947 ]\n",
      "[-0.17364818  0.98480775]\n",
      "[-0.25881905  0.96592583]\n",
      "[-0.34202014  0.93969262]\n",
      "[-0.42261826  0.90630779]\n",
      "[-0.5        0.8660254]\n",
      "[-0.57357644  0.81915204]\n",
      "[-0.64278761  0.76604444]\n",
      "[-0.70710678  0.70710678]\n",
      "[-0.76604444  0.64278761]\n",
      "[-0.81915204  0.57357644]\n",
      "[-0.8660254  0.5      ]\n",
      "[-0.90630779  0.42261826]\n",
      "[-0.93969262  0.34202014]\n",
      "[-0.96592583  0.25881905]\n",
      "[-0.98480775  0.17364818]\n",
      "[-0.9961947   0.08715574]\n",
      "[-1.0000000e+00  1.2246468e-16]\n",
      "[-0.9961947  -0.08715574]\n",
      "[-0.98480775 -0.17364818]\n",
      "[-0.96592583 -0.25881905]\n",
      "[-0.93969262 -0.34202014]\n",
      "[-0.90630779 -0.42261826]\n",
      "[-0.8660254 -0.5      ]\n",
      "[-0.81915204 -0.57357644]\n",
      "[-0.76604444 -0.64278761]\n",
      "[-0.70710678 -0.70710678]\n",
      "[-0.64278761 -0.76604444]\n",
      "[-0.57357644 -0.81915204]\n",
      "[-0.5       -0.8660254]\n",
      "[-0.42261826 -0.90630779]\n",
      "[-0.34202014 -0.93969262]\n",
      "[-0.25881905 -0.96592583]\n",
      "[-0.17364818 -0.98480775]\n",
      "[-0.08715574 -0.9961947 ]\n",
      "[-1.8369702e-16 -1.0000000e+00]\n",
      "[ 0.08715574 -0.9961947 ]\n",
      "[ 0.17364818 -0.98480775]\n",
      "[ 0.25881905 -0.96592583]\n",
      "[ 0.34202014 -0.93969262]\n",
      "[ 0.42261826 -0.90630779]\n",
      "[ 0.5       -0.8660254]\n",
      "[ 0.57357644 -0.81915204]\n",
      "[ 0.64278761 -0.76604444]\n",
      "[ 0.70710678 -0.70710678]\n",
      "[ 0.76604444 -0.64278761]\n",
      "[ 0.81915204 -0.57357644]\n",
      "[ 0.8660254 -0.5      ]\n",
      "[ 0.90630779 -0.42261826]\n",
      "[ 0.93969262 -0.34202014]\n",
      "[ 0.96592583 -0.25881905]\n",
      "[ 0.98480775 -0.17364818]\n",
      "[ 0.9961947  -0.08715574]\n",
      "[ 1.0000000e+00 -2.4492936e-16]\n"
     ]
    }
   ],
   "source": [
    "# Part A \n",
    "data = np.loadtxt('SampleData1.txt')\n",
    "\n",
    "# print out each row of the data array  \n",
    "for i in range(0,len(data),1): \n",
    "    print(data[i,:])\n",
    "\n",
    "## Problem 5: Mystery Data \n",
    "\n",
    "### a) Using a while or for loop, print out each row of the data array.\n",
    "\n"
   ]
  },
  {
   "cell_type": "markdown",
   "id": "3d7b1efe",
   "metadata": {},
   "source": [
    "## Result: Using a for loop, I was able to loop through the data and print all the rows of data. This can be seen above this markdown box. "
   ]
  },
  {
   "cell_type": "markdown",
   "id": "cb5cc50c",
   "metadata": {},
   "source": [
    "### b) Looking at the data make a guess what these two columns represent. Think about what range of values they have and how they are related to each each. Verify your guess but showing a calculation that validates the guess."
   ]
  },
  {
   "cell_type": "code",
   "execution_count": 13,
   "id": "dcbc7b51",
   "metadata": {},
   "outputs": [
    {
     "data": {
      "image/png": "[encoded data removed]",
      "text/plain": [
       "<Figure size 432x288 with 1 Axes>"
      ]
     },
     "metadata": {
      "needs_background": "light"
     },
     "output_type": "display_data"
    },
    {
     "data": {
      "image/png": "[encoded data removed]",
      "text/plain": [
       "<Figure size 432x288 with 1 Axes>"
      ]
     },
     "metadata": {
      "needs_background": "light"
     },
     "output_type": "display_data"
    }
   ],
   "source": [
    "# Part B \n",
    "import matplotlib.pyplot as plt \n",
    "from math import pi \n",
    "x_data = []\n",
    "y_data = []\n",
    "\n",
    "for i in range(0,len(data),1): \n",
    "    x_data.append(data[i,0])\n",
    "    y_data.append(data[i,1])\n",
    "\n",
    "plt.plot(x_data,y_data,'r') \n",
    "plt.grid(color = 'lightgray',linestyle = '--')\n",
    "plt.show()\n",
    "    \n",
    "# After seeing the plot, it appears that this is a ellipse. To double check, we will use the formula for a ellipse \n",
    "\n",
    "# To verify that this is the case I used the parametric equations for an ellipse and graphed it \n",
    "# to see if they looked the same. \n",
    "\n",
    "u = 0 # x-position of the center\n",
    "v = 0 # y-position of the center \n",
    "a = 1 # radius on x-axis \n",
    "b = 1 # radius on y-axis \n",
    "\n",
    "t = np.linspace(0,2*pi,100) # parametric variable t \n",
    "\n",
    "xx = u + a * np.cos(t)\n",
    "yy = v + b * np.sin(t)\n",
    "\n",
    "plt.plot(xx,yy,'g')\n",
    "plt.grid(color = 'lightgray',linestyle = '--')\n",
    "plt.show()\n",
    "\n",
    "# As you can see both graphs look exactly the same. The only calculation needed was to determine a and b by looking \n",
    "# at the data. \n",
    "# It was easy to see that the max is 1.0 and center is 0. Using this we found that for the x-axis the radius was a = 1.\n",
    "# And that the radius along the y-axis was b = 1. \n",
    "\n",
    "# This actually makes it a circle. "
   ]
  },
  {
   "cell_type": "markdown",
   "id": "1b594c37",
   "metadata": {},
   "source": [
    "## Result: We were tasked to find out what the data represented, I decided to plot it and observed that it is a circle. To confirm this I took parametric equations of an ellipse and looped numbers through it to see if the graph was the same. The red graph represents the mystery data plotted which is a red circle. The green graph is the graph created by the parametric equations of an ellipse in which I funnelled data ranging 0 to 2 pi. Notice if you look at the graphs they are the same, so I concluded that the data represents the circle, or more specifically the unit circle. "
   ]
  }
 ],
 "metadata": {
  "kernelspec": {
   "display_name": "Python 3",
   "language": "python",
   "name": "python3"
  },
  "language_info": {
   "codemirror_mode": {
    "name": "ipython",
    "version": 3
   },
   "file_extension": ".py",
   "mimetype": "text/x-python",
   "name": "python",
   "nbconvert_exporter": "python",
   "pygments_lexer": "ipython3",
   "version": "3.8.8"
  }
 },
 "nbformat": 4,
 "nbformat_minor": 5
}
